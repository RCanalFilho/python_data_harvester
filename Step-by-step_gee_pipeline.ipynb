{
 "cells": [
  {
   "cell_type": "markdown",
   "id": "47afecc3",
   "metadata": {},
   "source": [
    "# Install local libraries"
   ]
  },
  {
   "cell_type": "code",
   "execution_count": null,
   "id": "6a6206f8",
   "metadata": {},
   "outputs": [],
   "source": [
    "## Unzip somewhere:\n",
    "\n",
    "C:\\Users\\1ricardo\\my_python_modules\\gee_pipeline\\\n",
    "│  pyproject.toml\n",
    "│  README.md\n",
    "└─ gee_pipeline\\\n",
    "   ├─ __init__.py\n",
    "   ├─ config.py\n",
    "   ├─ runner.py\n",
    "   ├─ panels.py\n",
    "   ├─ ... (others .py)"
   ]
  },
  {
   "cell_type": "markdown",
   "id": "9f974aa6",
   "metadata": {},
   "source": [
    "IMPORTANT: The file pyproject.toml needs to be exatcly in the directory where you'll run the command pip install -e .\n",
    "\n",
    "1. Open the terminal\n",
    "\n",
    "PowerShell: Win → “PowerShell” → Enter\n",
    "\n",
    "2. Access the project folder\n",
    "\n",
    "cd \"C:\\Users\\1ricardo\\my_python_modules\\gee_pipeline\"\n",
    "\n",
    "3. Run the dev install\n",
    "\n",
    "python -m pip install -U pip\\\n",
    "python -m pip install -e .\n",
    "\n",
    "4. Ready to go \\\n",
    "Anytime and in any notebook you can now run:\n",
    "\n",
    "from gee_pipeline import Config, run_pipeline_quick, build_user_panel"
   ]
  },
  {
   "cell_type": "markdown",
   "id": "cf55a19f",
   "metadata": {},
   "source": [
    "# Log to GEE"
   ]
  },
  {
   "cell_type": "code",
   "execution_count": 4,
   "id": "642f1221",
   "metadata": {
    "ExecuteTime": {
     "end_time": "2025-10-07T05:29:11.908195Z",
     "start_time": "2025-10-07T05:27:57.992945Z"
    }
   },
   "outputs": [
    {
     "data": {
      "text/html": [
       "\n",
       "            <style>\n",
       "                .geemap-dark {\n",
       "                    --jp-widgets-color: white;\n",
       "                    --jp-widgets-label-color: white;\n",
       "                    --jp-ui-font-color1: white;\n",
       "                    --jp-layout-color2: #454545;\n",
       "                    background-color: #383838;\n",
       "                }\n",
       "\n",
       "                .geemap-dark .jupyter-button {\n",
       "                    --jp-layout-color3: #383838;\n",
       "                }\n",
       "\n",
       "                .geemap-colab {\n",
       "                    background-color: var(--colab-primary-surface-color, white);\n",
       "                }\n",
       "\n",
       "                .geemap-colab .jupyter-button {\n",
       "                    --jp-layout-color3: var(--colab-primary-surface-color, white);\n",
       "                }\n",
       "            </style>\n",
       "            "
      ],
      "text/plain": [
       "<IPython.core.display.HTML object>"
      ]
     },
     "metadata": {},
     "output_type": "display_data"
    },
    {
     "data": {
      "text/html": [
       "<p>To authorize access needed by Earth Engine, open the following\n",
       "        URL in a web browser and follow the instructions:</p>\n",
       "        <p><a href=https://code.earthengine.google.com/client-auth?scopes=https%3A//www.googleapis.com/auth/earthengine%20https%3A//www.googleapis.com/auth/cloud-platform%20https%3A//www.googleapis.com/auth/drive%20https%3A//www.googleapis.com/auth/devstorage.full_control&request_id=3M6zPD8p1-d9_eX5WIT7xVFCwo_CkuSD9Gt_O-JbZao&tc=c3PzZElAqrKp96tGX-4sP2xyUxYFNp896dDeuKm9nfM&cc=p7Y571uzSpt2A7aIy2X7r81Ms_4YpQkJc-E13VShkd4>https://code.earthengine.google.com/client-auth?scopes=https%3A//www.googleapis.com/auth/earthengine%20https%3A//www.googleapis.com/auth/cloud-platform%20https%3A//www.googleapis.com/auth/drive%20https%3A//www.googleapis.com/auth/devstorage.full_control&request_id=3M6zPD8p1-d9_eX5WIT7xVFCwo_CkuSD9Gt_O-JbZao&tc=c3PzZElAqrKp96tGX-4sP2xyUxYFNp896dDeuKm9nfM&cc=p7Y571uzSpt2A7aIy2X7r81Ms_4YpQkJc-E13VShkd4</a></p>\n",
       "        <p>The authorization workflow will generate a code, which you should paste in the box below.</p>\n",
       "        "
      ],
      "text/plain": [
       "<IPython.core.display.HTML object>"
      ]
     },
     "metadata": {},
     "output_type": "display_data"
    },
    {
     "name": "stdout",
     "output_type": "stream",
     "text": [
      "Enter verification code: 4/1AVGzR1ApIeZaldDDvwYTqDxYtnoSCiZkpRQ5GkNf6LfMmWZsZUdWyuT7fLE\n",
      "\n",
      "Successfully saved authorization token.\n"
     ]
    }
   ],
   "source": [
    "# If it's the first time you're using it\n",
    "import ee\n",
    "ee.Authenticate()\n",
    "ee.Initialize()"
   ]
  },
  {
   "cell_type": "markdown",
   "id": "3b864b93",
   "metadata": {},
   "source": [
    "# Call local libraries"
   ]
  },
  {
   "cell_type": "code",
   "execution_count": null,
   "id": "f3e4360e",
   "metadata": {},
   "outputs": [],
   "source": [
    "import sys, gee_pipeline\n",
    "print(gee_pipeline.__file__)\n",
    "from gee_pipeline import Config, run_pipeline_quick, build_user_panel\n",
    "print(\"OK:\", Config, run_pipeline_quick, build_user_panel)"
   ]
  },
  {
   "cell_type": "markdown",
   "id": "560fe9cd",
   "metadata": {},
   "source": [
    "# Run"
   ]
  },
  {
   "cell_type": "code",
   "execution_count": 23,
   "id": "06efdbb5",
   "metadata": {
    "ExecuteTime": {
     "end_time": "2025-10-08T03:01:49.953908Z",
     "start_time": "2025-10-08T03:01:49.946233Z"
    }
   },
   "outputs": [
    {
     "data": {
      "text/html": [
       "\n",
       "            <style>\n",
       "                .geemap-dark {\n",
       "                    --jp-widgets-color: white;\n",
       "                    --jp-widgets-label-color: white;\n",
       "                    --jp-ui-font-color1: white;\n",
       "                    --jp-layout-color2: #454545;\n",
       "                    background-color: #383838;\n",
       "                }\n",
       "\n",
       "                .geemap-dark .jupyter-button {\n",
       "                    --jp-layout-color3: #383838;\n",
       "                }\n",
       "\n",
       "                .geemap-colab {\n",
       "                    background-color: var(--colab-primary-surface-color, white);\n",
       "                }\n",
       "\n",
       "                .geemap-colab .jupyter-button {\n",
       "                    --jp-layout-color3: var(--colab-primary-surface-color, white);\n",
       "                }\n",
       "            </style>\n",
       "            "
      ],
      "text/plain": [
       "<IPython.core.display.HTML object>"
      ]
     },
     "metadata": {},
     "output_type": "display_data"
    },
    {
     "name": "stdout",
     "output_type": "stream",
     "text": [
      "Config OK: outputs\\coffee\\2020\n"
     ]
    }
   ],
   "source": [
    "from gee_pipeline import Config, run_pipeline_quick\n",
    "\n",
    "cfg = Config(\n",
    "    area_name=\"coffee\",\n",
    "    yield_year=2020,\n",
    "    roi_path=\"contour/contour_brazil.gpkg\",\n",
    "    date_start=\"2020-01-01\",\n",
    "    date_end=\"2020-12-31\",\n",
    "    indices=[\"NDVI\", \"EVI\", \"GNDVI\", \"NDRE\", \"NDMI\"],\n",
    "    export_root=\"outputs\",\n",
    "    pixel_scale=10,\n",
    "    preview=False,\n",
    ")\n",
    "print(\"Config OK:\", cfg.export_dir)"
   ]
  },
  {
   "cell_type": "code",
   "execution_count": 24,
   "id": "3be2e413",
   "metadata": {
    "ExecuteTime": {
     "end_time": "2025-10-08T03:02:13.309858Z",
     "start_time": "2025-10-08T03:01:50.085993Z"
    }
   },
   "outputs": [
    {
     "data": {
      "text/html": [
       "\n",
       "            <style>\n",
       "                .geemap-dark {\n",
       "                    --jp-widgets-color: white;\n",
       "                    --jp-widgets-label-color: white;\n",
       "                    --jp-ui-font-color1: white;\n",
       "                    --jp-layout-color2: #454545;\n",
       "                    background-color: #383838;\n",
       "                }\n",
       "\n",
       "                .geemap-dark .jupyter-button {\n",
       "                    --jp-layout-color3: #383838;\n",
       "                }\n",
       "\n",
       "                .geemap-colab {\n",
       "                    background-color: var(--colab-primary-surface-color, white);\n",
       "                }\n",
       "\n",
       "                .geemap-colab .jupyter-button {\n",
       "                    --jp-layout-color3: var(--colab-primary-surface-color, white);\n",
       "                }\n",
       "            </style>\n",
       "            "
      ],
      "text/plain": [
       "<IPython.core.display.HTML object>"
      ]
     },
     "metadata": {},
     "output_type": "display_data"
    },
    {
     "name": "stderr",
     "output_type": "stream",
     "text": [
      "2025-10-08 14:01:50,085 | INFO | Logger initialized at 2025-10-08 14:01:50 in outputs\\coffee\\2020\\logs\n",
      "2025-10-08 14:01:51,268 | INFO | EE initialized.\n"
     ]
    },
    {
     "name": "stdout",
     "output_type": "stream",
     "text": [
      "[ok] load_roi in 0.0s\n"
     ]
    },
    {
     "name": "stderr",
     "output_type": "stream",
     "text": [
      "2025-10-08 14:01:58,454 | INFO | Saved table: outputs\\coffee\\2020\\coffee_2020_cube_stats.parquet\n",
      "2025-10-08 14:02:13,295 | INFO | Saved samples: outputs\\coffee\\2020\\coffee_2020_samples.parquet [5000 rows]\n"
     ]
    },
    {
     "name": "stdout",
     "output_type": "stream",
     "text": [
      "=== gee-pipeline Run Summary ===\n",
      "Steps: 4 | Artifacts: 2 | Errors: 0\n",
      "\n",
      "• 2025-10-08T14:01:51.296785 — ROI loaded (1 meta)\n",
      "• 2025-10-08T14:01:51.302346 — Time series composed (0 meta)\n",
      "• 2025-10-08T14:01:51.309783 — Monthly mosaics created (0 meta)\n",
      "• 2025-10-08T14:01:55.742686 — Cube assembled (1 meta)\n",
      "\n",
      "Artifacts:\n",
      "  - [table] outputs\\coffee\\2020\\coffee_2020_cube_stats.parquet\n",
      "  - [samples] outputs\\coffee\\2020\\coffee_2020_samples.parquet\n"
     ]
    }
   ],
   "source": [
    "cfg.make_csv = True\n",
    "report = run_pipeline_quick(cfg)\n",
    "print(report.summary_text())"
   ]
  }
 ],
 "metadata": {
  "kernelspec": {
   "display_name": "Python 3 (ipykernel)",
   "language": "python",
   "name": "python3"
  },
  "language_info": {
   "codemirror_mode": {
    "name": "ipython",
    "version": 3
   },
   "file_extension": ".py",
   "mimetype": "text/x-python",
   "name": "python",
   "nbconvert_exporter": "python",
   "pygments_lexer": "ipython3",
   "version": "3.11.7"
  },
  "toc": {
   "base_numbering": 1,
   "nav_menu": {},
   "number_sections": true,
   "sideBar": true,
   "skip_h1_title": false,
   "title_cell": "Table of Contents",
   "title_sidebar": "Contents",
   "toc_cell": false,
   "toc_position": {},
   "toc_section_display": true,
   "toc_window_display": false
  }
 },
 "nbformat": 4,
 "nbformat_minor": 5
}
